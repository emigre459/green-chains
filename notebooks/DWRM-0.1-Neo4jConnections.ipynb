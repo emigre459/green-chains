{
 "cells": [
  {
   "cell_type": "markdown",
   "id": "fcc27deb-2d3f-44be-b0ef-72041976c81c",
   "metadata": {},
   "source": [
    "# Purpose\n",
    "\n",
    "We were going to leverage the [VESPID](https://github.com/QS-2/VESPID/tree/main/vespid/data/neo4j_tools) project's neo4j tools, but they rely on the native Neo4j driver as well as `py2neo`, a now-defunct library. So we need to figure out a better way to replicate that functionality going forward! Hopefully we can get away with only using the native driver (so it's functional as long as the core software company is operating) but we'll see."
   ]
  },
  {
   "cell_type": "markdown",
   "id": "e94314e7-80a7-48e0-b32e-5a1081f1a1df",
   "metadata": {},
   "source": [
    "# Imports"
   ]
  },
  {
   "cell_type": "code",
   "execution_count": 1,
   "id": "3c535434-df34-40d5-b22e-19c8d5baece6",
   "metadata": {},
   "outputs": [
    {
     "name": "stderr",
     "output_type": "stream",
     "text": [
      "INFO 11-16-2023_T16_09_16: (greenchains:4200116323.py:12) - Testing\n"
     ]
    }
   ],
   "source": [
    "%load_ext autoreload\n",
    "%autoreload 2\n",
    "\n",
    "import pandas as pd\n",
    "import greenchains as gc\n",
    "from greenchains.config import LOGGER_NAME\n",
    "\n",
    "# Importing our logs.py is needed to make sure logging inherits our formatting, handlers, etc.\n",
    "from greenchains import logs\n",
    "import logging\n",
    "logger = logging.getLogger(LOGGER_NAME)\n",
    "logger.info(\"Testing\")"
   ]
  },
  {
   "cell_type": "markdown",
   "id": "36242ae9-2a3e-4219-a0c4-c9a29bf6f281",
   "metadata": {},
   "source": [
    "# Constants"
   ]
  },
  {
   "cell_type": "code",
   "execution_count": 2,
   "id": "36cf085a-9276-4cea-955c-fdefa4a845e2",
   "metadata": {},
   "outputs": [],
   "source": [
    "pd.options.display.memory_usage = 'deep'\n",
    "pd.options.display.max_rows = 100\n",
    "pd.options.display.max_columns = 100"
   ]
  },
  {
   "cell_type": "markdown",
   "id": "e85ceea5-f706-4643-a097-2e9d13e12235",
   "metadata": {},
   "source": [
    "# Establishing a connection to the DB\n",
    "\n",
    "Given that `py2neo` is EOL and `neo4j-arrow` is no longer a standalone library, we have a lot of cleaning up to do! May be easiest to replace the logic for queries that become `pandas` dataframes primarily, so let's start there."
   ]
  },
  {
   "cell_type": "code",
   "execution_count": 3,
   "id": "e3f3696b-88a3-43f4-a173-b201b6e72f52",
   "metadata": {},
   "outputs": [],
   "source": [
    "from greenchains.data.neo4j_tools.handler import Neo4jConnectionHandler\n",
    "\n",
    "graph = Neo4jConnectionHandler('localhost', db_password='password', secure_connection=False)"
   ]
  },
  {
   "cell_type": "code",
   "execution_count": 4,
   "id": "073939b6-9ad7-4a8e-b6ac-84ea92d70198",
   "metadata": {},
   "outputs": [
    {
     "name": "stderr",
     "output_type": "stream",
     "text": [
      "INFO 11-16-2023_T16_09_18: (greenchains:handler.py:605) - Neo4j query started...\n",
      "INFO 11-16-2023_T16_09_18: (greenchains:handler.py:614) - Neo4j query complete!\n"
     ]
    },
    {
     "data": {
      "text/html": [
       "<div>\n",
       "<style scoped>\n",
       "    .dataframe tbody tr th:only-of-type {\n",
       "        vertical-align: middle;\n",
       "    }\n",
       "\n",
       "    .dataframe tbody tr th {\n",
       "        vertical-align: top;\n",
       "    }\n",
       "\n",
       "    .dataframe thead th {\n",
       "        text-align: right;\n",
       "    }\n",
       "</style>\n",
       "<table border=\"1\" class=\"dataframe\">\n",
       "  <thead>\n",
       "    <tr style=\"text-align: right;\">\n",
       "      <th></th>\n",
       "      <th>COUNT(n)</th>\n",
       "    </tr>\n",
       "  </thead>\n",
       "  <tbody>\n",
       "    <tr>\n",
       "      <th>0</th>\n",
       "      <td>0</td>\n",
       "    </tr>\n",
       "  </tbody>\n",
       "</table>\n",
       "</div>"
      ],
      "text/plain": [
       "   COUNT(n)\n",
       "0         0"
      ]
     },
     "execution_count": 4,
     "metadata": {},
     "output_type": "execute_result"
    }
   ],
   "source": [
    "graph.cypher_query_to_dataframe(\"MATCH (n) RETURN COUNT(n)\")"
   ]
  },
  {
   "cell_type": "code",
   "execution_count": null,
   "id": "40c4e864-4042-4562-89d2-d51c2347e47c",
   "metadata": {},
   "outputs": [],
   "source": []
  }
 ],
 "metadata": {
  "kernelspec": {
   "display_name": "Python [conda env:green-chains]",
   "language": "python",
   "name": "conda-env-green-chains-py"
  },
  "language_info": {
   "codemirror_mode": {
    "name": "ipython",
    "version": 3
   },
   "file_extension": ".py",
   "mimetype": "text/x-python",
   "name": "python",
   "nbconvert_exporter": "python",
   "pygments_lexer": "ipython3",
   "version": "3.11.6"
  }
 },
 "nbformat": 4,
 "nbformat_minor": 5
}
